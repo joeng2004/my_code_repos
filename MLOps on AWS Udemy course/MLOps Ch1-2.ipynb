{
 "cells": [
  {
   "cell_type": "markdown",
   "source": [
    "# Chapter 1"
   ],
   "metadata": {
    "collapsed": false
   },
   "id": "ff16fa0f07e88861"
  },
  {
   "cell_type": "markdown",
   "source": [
    "## Some Guiding Prinicples of MLops\n",
    "\n",
    "<img src='images/1.jpg' width=75%>\n"
   ],
   "metadata": {
    "collapsed": false
   },
   "id": "992b57413621d212"
  },
  {
   "cell_type": "markdown",
   "source": [
    "# Use Case : End to End Pipeline in AWS\n",
    "\n",
    "<img src='images/2.jpg' width=75%>\n"
   ],
   "metadata": {
    "collapsed": false
   },
   "id": "909d50ee0520b4a9"
  },
  {
   "cell_type": "markdown",
   "source": [
    "\n",
    "## AWS Pipepline\n",
    "\n",
    "<img src='images/3.jpg' width=75%>\n"
   ],
   "metadata": {
    "collapsed": false
   },
   "id": "dcaaf4221def96c1"
  },
  {
   "cell_type": "markdown",
   "source": [
    "## Why DevOps is not suitable for ML\n",
    "\n",
    "<img src='images/4.jpg' width=2600>\n"
   ],
   "metadata": {
    "collapsed": false
   },
   "id": "5970180cf4efd5e1"
  },
  {
   "cell_type": "markdown",
   "source": [
    "## about DevOps\n",
    "\n",
    "<img src='images/5.jpg' width=75%>\n"
   ],
   "metadata": {
    "collapsed": false
   },
   "id": "f72d2e75879d072d"
  },
  {
   "cell_type": "markdown",
   "source": [
    "## .\n",
    "<img src='images/6.jpg' width=75%>\n"
   ],
   "metadata": {
    "collapsed": false
   },
   "id": "852e23899a898fa0"
  },
  {
   "cell_type": "markdown",
   "source": [
    "## .\n",
    "<img src='images/7.jpg' width=75%>\n"
   ],
   "metadata": {
    "collapsed": false
   },
   "id": "8b7a19c5d569d771"
  },
  {
   "cell_type": "markdown",
   "source": [
    ".\n",
    "<img src='images/8.jpg' width=75%>\n"
   ],
   "metadata": {
    "collapsed": false
   },
   "id": "873aac8f0f8cab26"
  },
  {
   "cell_type": "markdown",
   "source": [
    "# Final Recap:\n",
    "## DevOps - For Traditional Software Development\n",
    "## MLOps - this is the highway - Needs more process oriented approach to overcome the challenges"
   ],
   "metadata": {
    "collapsed": false
   },
   "id": "a2070f84cf40df0e"
  },
  {
   "cell_type": "markdown",
   "source": [
    "# 3 type of Cloud Computing\n",
    "- Infrastructure as a Service\n",
    "- Platform as a Service\n",
    "- Software as a Service"
   ],
   "metadata": {
    "collapsed": false
   },
   "id": "ee0d8a1555d06dce"
  },
  {
   "cell_type": "code",
   "execution_count": 2,
   "outputs": [],
   "source": [
    "# Iaas (Infrasturture as a Service, e.g. AWS)\n",
    "# Platform as a Service (e.g. \n",
    "# Software as a Service (e.g. Gmail)\n"
   ],
   "metadata": {
    "collapsed": false,
    "ExecuteTime": {
     "end_time": "2023-11-14T06:24:07.780289Z",
     "start_time": "2023-11-14T06:24:07.759123Z"
    }
   },
   "id": "373f6af0848d29e3"
  },
  {
   "cell_type": "markdown",
   "source": [
    "# ML Projects are multi-disciplinary and iternative\n",
    "\n",
    "<img src='images/11.jpg' width=2200>\n"
   ],
   "metadata": {
    "collapsed": false
   },
   "id": "dc7b6f9f542e2cae"
  },
  {
   "cell_type": "code",
   "execution_count": null,
   "outputs": [],
   "source": [],
   "metadata": {
    "collapsed": false
   },
   "id": "6a0c1a420ba627dd"
  },
  {
   "cell_type": "markdown",
   "source": [
    "# Amazon SageMaker and the AWS  AI/ML Stack\n",
    ".<img src='images/12.jpg' width=2500>\n",
    "\n",
    "\n"
   ],
   "metadata": {
    "collapsed": false
   },
   "id": "8a1371a7e0a5b115"
  },
  {
   "cell_type": "markdown",
   "source": [
    "## Modular features for end-to-end ML Lifecycle\n",
    "\n",
    ".<img src='images/13.jpg' width=75%>\n"
   ],
   "metadata": {
    "collapsed": false
   },
   "id": "52e11a1b00a6396e"
  },
  {
   "cell_type": "code",
   "execution_count": null,
   "outputs": [],
   "source": [],
   "metadata": {
    "collapsed": false
   },
   "id": "46c31b5a93c9aff4"
  }
 ],
 "metadata": {
  "kernelspec": {
   "display_name": "Python 3",
   "language": "python",
   "name": "python3"
  },
  "language_info": {
   "codemirror_mode": {
    "name": "ipython",
    "version": 2
   },
   "file_extension": ".py",
   "mimetype": "text/x-python",
   "name": "python",
   "nbconvert_exporter": "python",
   "pygments_lexer": "ipython2",
   "version": "2.7.6"
  }
 },
 "nbformat": 4,
 "nbformat_minor": 5
}
