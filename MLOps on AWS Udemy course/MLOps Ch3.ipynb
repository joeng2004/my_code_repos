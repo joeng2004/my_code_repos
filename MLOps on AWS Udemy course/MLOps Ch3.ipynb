{
 "cells": [
  {
   "cell_type": "markdown",
   "source": [
    "# Chapter 3"
   ],
   "metadata": {
    "collapsed": false
   },
   "id": "3b9214cecbb1f946"
  },
  {
   "cell_type": "markdown",
   "source": [
    "# SDLC (Software development Life Cycle) \n",
    "\n",
    "Software Development Life Cycle (SDLC) is a process used by software\n",
    "development teams to plan, design, develop, test, and deploy applications.\n",
    "Understanding the SDLC process is essential for successful software\n",
    "development projects.\n"
   ],
   "metadata": {
    "collapsed": false
   },
   "id": "b38d29f77e8fdfaf"
  },
  {
   "cell_type": "markdown",
   "source": [
    ".<img src='images/ch3_1.jpg' width=75%>"
   ],
   "metadata": {
    "collapsed": false
   },
   "id": "75543a84123c31d3"
  },
  {
   "cell_type": "markdown",
   "source": [
    "• Planning\n",
    "-- Identifying the scope of the project and setting goals and objectives.\n",
    "• Coding Phase\n",
    "-- System Design, static code analysis and code review.\n",
    "• Building Phase\n",
    "-- Building the Software \n",
    "• Testing\n",
    "-- Testing the application to ensure it meets requirements\n",
    "\n",
    "• Release Phase\n",
    "Team Packaging, managing & deploying releases across various environments.\n",
    "• Deployment\n",
    "Deploying the application to production environment.\n",
    "• Operate\n",
    "Use of Software in the production Environment\n",
    "• Monitor\n",
    "Software, System, User Experience & Security are monitored"
   ],
   "metadata": {
    "collapsed": false
   },
   "id": "bf6e9cce9c59647f"
  },
  {
   "cell_type": "markdown",
   "source": [
    "\n",
    "## And the end of the SDLC \n",
    "\n",
    "\n",
    "\"The Benefits of SDLC are that it\n",
    "provides a structured approach to\n",
    "software development, ensuring\n",
    "that all necessary steps are taken\n",
    "and that the end product is of the\n",
    "highest quality.\""
   ],
   "metadata": {
    "collapsed": false
   },
   "id": "d503e3351ff4b21d"
  },
  {
   "cell_type": "code",
   "execution_count": null,
   "outputs": [],
   "source": [],
   "metadata": {
    "collapsed": false
   },
   "id": "cb105cd83d5c0c4d"
  },
  {
   "cell_type": "code",
   "execution_count": null,
   "outputs": [],
   "source": [],
   "metadata": {
    "collapsed": false
   },
   "id": "268cc86e9f0ba577"
  },
  {
   "cell_type": "markdown",
   "source": [
    ".<img src='images/ch3_2.jpg' width=75%>\n"
   ],
   "metadata": {
    "collapsed": false
   },
   "id": "eaa989d8d593171f"
  },
  {
   "cell_type": "markdown",
   "source": [
    "## The different Types of SDLC\n",
    "\n",
    ".<img src='images/ch3_3.jpg' width=75%>\n"
   ],
   "metadata": {
    "collapsed": false
   },
   "id": "19071c72452e96e8"
  },
  {
   "cell_type": "markdown",
   "source": [
    "Notes:\n",
    "- Waterfall model - less flexibility\n",
    "- Iterative approach ( more flexibility)\n",
    "- V-Model (a variation waterfall model)"
   ],
   "metadata": {
    "collapsed": false
   },
   "id": "745703b3f5961ab1"
  },
  {
   "cell_type": "markdown",
   "source": [
    "Benefits of Agile Methodology\n",
    "\n",
    ".<img src='images/ch3_4.jpg' width=75%>\n"
   ],
   "metadata": {
    "collapsed": false
   },
   "id": "8ef71f6ea14514d3"
  },
  {
   "cell_type": "markdown",
   "source": [
    "# The Lean Model\n",
    "\n",
    ".<img src='images/ch3_5.jpg' width=75%>\n"
   ],
   "metadata": {
    "collapsed": false
   },
   "id": "ea11d3bdf49d2e64"
  },
  {
   "cell_type": "code",
   "execution_count": null,
   "outputs": [],
   "source": [],
   "metadata": {
    "collapsed": false
   },
   "id": "cef2161d1d3d008e"
  },
  {
   "cell_type": "markdown",
   "source": [
    "# Waterfall vs Agile vs Devops"
   ],
   "metadata": {
    "collapsed": false
   },
   "id": "4aba6343ea3cce3f"
  },
  {
   "cell_type": "markdown",
   "source": [
    ".<img src='images/ch3_6.jpg' width=75%>\n"
   ],
   "metadata": {
    "collapsed": false
   },
   "id": "201e3359b3ace839"
  },
  {
   "cell_type": "markdown",
   "source": [],
   "metadata": {
    "collapsed": false
   },
   "id": "c2fa680c03b5f333"
  },
  {
   "cell_type": "markdown",
   "source": [
    "## Waterfall model\n",
    ".<img src='images/ch3_8.jpg' width=75%>\n",
    "\n"
   ],
   "metadata": {
    "collapsed": false
   },
   "id": "8c0a5b4bb5d9b221"
  },
  {
   "cell_type": "markdown",
   "source": [
    "## Advantages of Waterfall\n",
    "The presence of a partially established framework enables the\n",
    "subsequent team to make modifications or corrections to the\n",
    "project.\n",
    "This sequential process ensures that the client receives a product\n",
    "that is the result of collaborative team efforts.\n",
    "What gives Waterfall an advantage over the other two\n",
    "methodologies is that it does not require any certification for\n",
    "individuals to participate in the Waterfall production."
   ],
   "metadata": {
    "collapsed": false
   },
   "id": "26490daeb3a53ea3"
  },
  {
   "cell_type": "markdown",
   "source": [
    "## Disadvantage of waterfall\n",
    "\n",
    ".<img src='images/ch3_10.jpg' width=75%>\n"
   ],
   "metadata": {
    "collapsed": false
   },
   "id": "267f629fadbe41de"
  },
  {
   "cell_type": "markdown",
   "source": [
    "## Agile \n",
    "\n",
    ".<img src='images/ch3_11.jpg' width=75%>\n"
   ],
   "metadata": {
    "collapsed": false
   },
   "id": "905821f288f5fefa"
  },
  {
   "cell_type": "markdown",
   "source": [
    ".<img src='images/ch3_12.jpg' width=75%>\n"
   ],
   "metadata": {
    "collapsed": false
   },
   "id": "f9c03e7205b40ee9"
  },
  {
   "cell_type": "markdown",
   "source": [
    "## Advantages of Agile\n",
    "• While the Waterfall approach yields reliable\n",
    "outcomes, Agile methodology alleviates the\n",
    "burden on the production team by facilitating\n",
    "error handling and failure mitigation through\n",
    "enhanced collaboration.\n",
    "\n",
    "• The adoption of Agile leads to a considerable\n",
    "reduction in development-to-deployment time as\n",
    "the development team can focus on releasing\n",
    "completed components.\n",
    "\n",
    "• Consequently, the testing team no longer needs\n",
    "to wait for the entire package to be available\n",
    "before conducting bug testing."
   ],
   "metadata": {
    "collapsed": false
   },
   "id": "d3b678d8ec0eb46e"
  },
  {
   "cell_type": "markdown",
   "source": [
    "## Disadvantage of Agile\n",
    "\n",
    ".<img src='images/ch3_13.jpg' width=75%>\n"
   ],
   "metadata": {
    "collapsed": false
   },
   "id": "2d326ee37de9b8dc"
  },
  {
   "cell_type": "markdown",
   "source": [
    ".<img src='images/ch3_14.jpg' width=75%>\n"
   ],
   "metadata": {
    "collapsed": false
   },
   "id": "4f2ebd4028b948ce"
  },
  {
   "cell_type": "code",
   "execution_count": null,
   "outputs": [],
   "source": [],
   "metadata": {
    "collapsed": false
   },
   "id": "24f2491b5f146067"
  },
  {
   "cell_type": "markdown",
   "source": [
    "# DevOps \n",
    "\n",
    "## Devops stands apart from its counterparts by amalgamating the most valuable aspects of the Agile process with IT Production teams\n",
    "\n",
    "## In contrast to the fragmented nature of working independently, where miscommunication and delayed rollouts were prevalent due to the need for coordination amount numerous team members, DevOps provides a revolutionary solution by merging these teams together. "
   ],
   "metadata": {
    "collapsed": false
   },
   "id": "bf9425c910b93761"
  },
  {
   "cell_type": "markdown",
   "source": [
    "Agile vs Devops \n",
    "\n",
    ".<img src='images/ch3_15.jpg' width=75%>\n"
   ],
   "metadata": {
    "collapsed": false
   },
   "id": "890f9fbbe88d144f"
  },
  {
   "cell_type": "markdown",
   "source": [
    "## DevOps is about:\n",
    "\n",
    "• DevOps is the combination of\n",
    "cultural philosophies, practices,\n",
    "and tools that increases an\n",
    "organization's ability to deliver\n",
    "applications and services at high\n",
    "velocity: evolving and improving\n",
    "products at a faster pace than\n",
    "organizations using traditional\n",
    "software development and\n",
    "infrastructure management\n",
    "processes\n",
    "\n",
    "• This speed enables organizations\n",
    "to better serve their customers\n",
    "and compete more effectively in\n",
    "the market"
   ],
   "metadata": {
    "collapsed": false
   },
   "id": "c1694feb35d9f588"
  },
  {
   "cell_type": "markdown",
   "source": [
    "## How Devops Works\n",
    "\n",
    "• Under a DevOps model,\n",
    "development and operations\n",
    "teams are no longer \"siloed.\"\n",
    "\n",
    "• In some DevOps models, quality\n",
    "assurance and security teams\n",
    "may also become more tightly\n",
    "integrated with development and\n",
    "operations and throughout the\n",
    "application lifecycle\n",
    "\n",
    "• These tools also help engineers\n",
    "independently accomplish tasks\n",
    "that normally would have\n",
    "required help from other teams,\n",
    "and this further increases a\n",
    "team's velocity"
   ],
   "metadata": {
    "collapsed": false
   },
   "id": "39550d2de0288c84"
  },
  {
   "cell_type": "markdown",
   "source": [
    "## Devops Practices\n",
    "\n",
    "- Continuous Integration\n",
    "- Continuous Delivery\n",
    "- Microservices\n",
    "- Infrastructure as Code\n",
    "- Monitoring and Logging\n",
    "- Communication and Collaboration"
   ],
   "metadata": {
    "collapsed": false
   },
   "id": "26bb500e3aa1e654"
  },
  {
   "cell_type": "markdown",
   "source": [
    "## Continuous Integration\n",
    "• Continuous integration is a\n",
    "software development practice\n",
    "where developers regularly\n",
    "merge their code changes into a\n",
    "central repository, after which\n",
    "automated builds and tests are\n",
    "run\n",
    "\n",
    "• The key goals of continuous\n",
    "integration are to find and\n",
    "address bugs quicker, improve\n",
    "software quality, and reduce the\n",
    "time it takes to validate and\n",
    "release new software updates"
   ],
   "metadata": {
    "collapsed": false
   },
   "id": "168aa722b18ba35"
  },
  {
   "cell_type": "markdown",
   "source": [
    "# Continous Delivery \n",
    "\n",
    "• Continuous delivery is a\n",
    "software development practice\n",
    "where code changes are\n",
    "automatically built, tested, and\n",
    "prepared for a release to\n",
    "production\n",
    "\n",
    "• It expands upon continuous\n",
    "integration by deploying all code\n",
    "changes to a testing\n",
    "environment and/or a production\n",
    "environment after the build stage\n",
    "\n",
    "• When continuous delivery is\n",
    "implemented properly,\n",
    "developers will always have a\n",
    "deployment-ready build artifact\n",
    "that has passed through a\n",
    "standardized test process"
   ],
   "metadata": {
    "collapsed": false
   },
   "id": "87bc38ef52ffa26c"
  },
  {
   "cell_type": "markdown",
   "source": [
    "## Microservices\n",
    "\n",
    "• The microservices architecture\n",
    "is a design approach to build a\n",
    "single application as a set of\n",
    "small services\n",
    "\n",
    "• Each service runs in its own\n",
    "process and communicates with\n",
    "other services through a well-\n",
    "defined interface using a\n",
    "lightweight mechanism, typically\n",
    "an HTTP-based application\n",
    "programming interface\n",
    "\n",
    "• Microservices are built around\n",
    "business capabilities; each\n",
    "service is scoped to a single\n",
    "purpose"
   ],
   "metadata": {
    "collapsed": false
   },
   "id": "b5d8c853a4644475"
  },
  {
   "cell_type": "markdown",
   "source": [
    "## Infrastructure as Code\n",
    "\n",
    "• Infrastructure as code is a practice in which\n",
    "infrastructure is provisioned and managed using\n",
    "code and software development techniques, such\n",
    "as version control and continuous integration\n",
    "\n",
    "• The cloud's API-driven model enables developers\n",
    "and system administrators to interact with\n",
    "infrastructure programmatically, and at scale,\n",
    "instead of needing to manually set up and\n",
    "configure resources\n",
    " \n",
    "• Thus, engineers can interface with infrastructure\n",
    "using code-based tools and treat infrastructure in\n",
    "a manner similar to how they treat application\n",
    "code"
   ],
   "metadata": {
    "collapsed": false
   },
   "id": "fe2530de7ebc3ecb"
  },
  {
   "cell_type": "markdown",
   "source": [
    "## Configuration Management\n",
    "\n",
    "• Developers and system administrators use\n",
    "code to automate operating system and\n",
    "host configuration, operational tasks, and\n",
    "more\n",
    "\n",
    "• It frees developers and systems\n",
    "administrators from manually configuring\n",
    "operating systems, system applications, or\n",
    "server software"
   ],
   "metadata": {
    "collapsed": false
   },
   "id": "6c15275658806587"
  },
  {
   "cell_type": "code",
   "execution_count": null,
   "outputs": [],
   "source": [],
   "metadata": {
    "collapsed": false
   },
   "id": "5a85476ee4299a71"
  },
  {
   "cell_type": "markdown",
   "source": [
    "## Communication and Collaboration\n",
    "• Increased communication and\n",
    "collaboration in an organization\n",
    "is one of the key cultural aspects\n",
    "of DevOps\n",
    "\n",
    "• The use of DevOps tooling and\n",
    "automation of the software\n",
    "delivery process establishes\n",
    "collaboration by physically\n",
    "bringing together the workflows\n",
    "and responsibilities of\n",
    "development and operations\n",
    "\n",
    "• AWS provides a set of flexible\n",
    "services designed to enable\n",
    "companies to more rapidly and\n",
    "reliably build and deliver\n",
    "products using AWS and DevOps\n",
    "practices"
   ],
   "metadata": {
    "collapsed": false
   },
   "id": "fd4efe3549e786f9"
  },
  {
   "cell_type": "markdown",
   "source": [
    "# AWS Tools for Devops\n",
    "\n",
    ".<img src='images/ch3_16.jpg' width=75%>\n"
   ],
   "metadata": {
    "collapsed": false
   },
   "id": "1df16792a72985a6"
  },
  {
   "cell_type": "code",
   "execution_count": null,
   "outputs": [],
   "source": [],
   "metadata": {
    "collapsed": false
   },
   "id": "76ac1a63b1fa8f0c"
  },
  {
   "cell_type": "code",
   "execution_count": null,
   "outputs": [],
   "source": [],
   "metadata": {
    "collapsed": false
   },
   "id": "d9475ded7582950e"
  },
  {
   "cell_type": "code",
   "execution_count": null,
   "outputs": [],
   "source": [],
   "metadata": {
    "collapsed": false
   },
   "id": "2183b224fb7f8260"
  }
 ],
 "metadata": {
  "kernelspec": {
   "display_name": "Python 3",
   "language": "python",
   "name": "python3"
  },
  "language_info": {
   "codemirror_mode": {
    "name": "ipython",
    "version": 2
   },
   "file_extension": ".py",
   "mimetype": "text/x-python",
   "name": "python",
   "nbconvert_exporter": "python",
   "pygments_lexer": "ipython2",
   "version": "2.7.6"
  }
 },
 "nbformat": 4,
 "nbformat_minor": 5
}
