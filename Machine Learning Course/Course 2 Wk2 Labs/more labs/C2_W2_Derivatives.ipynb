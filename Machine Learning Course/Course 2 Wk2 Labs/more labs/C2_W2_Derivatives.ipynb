{
 "cells": [
  {
   "cell_type": "markdown",
   "metadata": {
    "tags": []
   },
   "source": [
    "# Optional Lab - Derivatives\n",
    "This lab will give you a more intuitive understanding of derivatives. It will show you a simple way of calculating derivatives arithmetically. It will also introduce you to a handy Python library that allows you to calculate derivatives symbolically."
   ],
   "id": "57470d6dea9c5b02"
  },
  {
   "cell_type": "code",
   "execution_count": null,
   "metadata": {},
   "outputs": [],
   "source": [
    "from sympy import symbols, diff"
   ],
   "id": "7cb869b12f2116fe"
  },
  {
   "cell_type": "markdown",
   "metadata": {},
   "source": [
    "## Informal definition of derivatives"
   ],
   "id": "1abb0f423c9ebb46"
  },
  {
   "cell_type": "markdown",
   "metadata": {},
   "source": [
    "The formal definition of derivatives can be a bit daunting with limits and values 'going to zero'. The idea is really much simpler. \n",
    "\n",
    "The derivative of a function describes how the output of a function changes when there is a small change in an input variable.\n",
    "\n",
    "Let's use the cost function $J(w)$ as an example. The cost $J$ is the output and $w$ is the input variable.  \n",
    "Let's give a 'small change' a name *epsilon* or $\\epsilon$. We use these Greek letters because it is traditional in mathematics to use *epsilon*($\\epsilon$) or *delta* ($\\Delta$) to represent a small value. You can think of it as representing 0.001 or some other small value.  \n",
    "\n",
    "$$\n",
    "\\begin{equation}\n",
    "\\text{if } w \\uparrow \\epsilon \\text{ causes }J(w) \\uparrow \\text{by }k \\times \\epsilon \\text{ then}  \\\\\n",
    "\\frac{\\partial J(w)}{\\partial w} = k \\tag{1}\n",
    "\\end{equation}\n",
    "$$\n",
    "\n",
    "This just says if you change the input to the function $J(w)$ by a little bit and the output changes by $k$ times that little bit, then the derivative of $J(w)$ is equal to $k$.\n",
    "\n",
    "Let's try this out.  Let's look at the derivative of the function $J(w) = w^2$ at the point $w=3$ and $\\epsilon = 0.001$"
   ],
   "id": "a3a1ac81b26958fd"
  },
  {
   "cell_type": "code",
   "execution_count": 1,
   "metadata": {
    "ExecuteTime": {
     "end_time": "2023-10-15T02:29:22.117327Z",
     "start_time": "2023-10-15T02:29:22.110618Z"
    }
   },
   "outputs": [
    {
     "name": "stdout",
     "output_type": "stream",
     "text": [
      "J = 9, J_epsilon = 9.006001, dJ_dw ~= k = 6.001000 \n"
     ]
    }
   ],
   "source": [
    "J = (3)**2\n",
    "J_epsilon = (3 + 0.001)**2\n",
    "k = (J_epsilon - J)/0.001    # difference divided by epsilon\n",
    "print(f\"J = {J}, J_epsilon = {J_epsilon}, dJ_dw ~= k = {k:0.6f} \")"
   ],
   "id": "c85a1ad71852a095"
  },
  {
   "cell_type": "markdown",
   "metadata": {},
   "source": [
    "We have increased the input value a little bit (0.001), causing the output to change from 9 to 9.006001, an increase of 6 times the input increase. Referencing (1) above, this says that $k=6$, so $\\frac{\\partial J(w)}{\\partial w} \\approx 6$. If you are familiar with calculus, you know, written symbolically,  $\\frac{\\partial J(w)}{\\partial w} = 2 w$. With $w=3$ this is 6. Our calculation above is not exactly 6 because to be exactly correct $\\epsilon$ would need to be [infinitesimally small](https://www.dictionary.com/browse/infinitesimally) or really, really small. That is why we use the symbols $\\approx$ or ~= rather than =. Let's see what happens if we make $\\epsilon$ smaller."
   ],
   "id": "c73d6ba38fe33b72"
  },
  {
   "cell_type": "code",
   "execution_count": null,
   "metadata": {},
   "outputs": [],
   "source": [
    "J = (3)**2\n",
    "J_epsilon = (3 + 0.000000001)**2\n",
    "k = (J_epsilon - J)/0.000000001\n",
    "print(f\"J = {J}, J_epsilon = {J_epsilon}, dJ_dw ~= k = {k} \")"
   ],
   "id": "dadc6e1a69c0e4d8"
  },
  {
   "cell_type": "markdown",
   "metadata": {},
   "source": [
    "The value gets close to exactly 6 as we reduce the size of $\\epsilon$. Feel free to try reducing the value further."
   ],
   "id": "6ab5cd939a3ad247"
  },
  {
   "cell_type": "markdown",
   "metadata": {},
   "source": [
    "## Finding symbolic derivatives\n",
    "In backprop it is useful to know the derivative of simple functions at any input value. Put another way, we would like to know the 'symbolic' derivative rather than the 'arithmetic' derivative. An example of a symbolic derivative is,  $\\frac{\\partial J(w)}{\\partial w} = 2 w$, the derivative of $J(w) = w^2$ above.  With the symbolic derivative you can find the value of the derivative at any input value $w$.  \n",
    "\n",
    "If you have taken a calculus course, you are familiar with the many [differentiation rules](https://en.wikipedia.org/wiki/Differentiation_rules#Power_laws,_polynomials,_quotients,_and_reciprocals) that mathematicians have developed to solve for a derivative given an expression. Well, it turns out this process has been automated with symbolic differentiation programs. An example of this in python is the [SymPy](https://www.sympy.org/en/index.html) library. Let's take a look at how to use this."
   ],
   "id": "19929ea6b83dc0a2"
  },
  {
   "cell_type": "markdown",
   "metadata": {},
   "source": [
    "### $J = w^2$\n",
    "Define the python variables and their symbolic names."
   ],
   "id": "9d527cf29201c451"
  },
  {
   "cell_type": "code",
   "execution_count": null,
   "metadata": {},
   "outputs": [],
   "source": [
    "J, w = symbols('J, w')"
   ],
   "id": "d85d87f0316fb77b"
  },
  {
   "cell_type": "markdown",
   "metadata": {},
   "source": [
    "Define and print the expression. Note SymPy produces a [latex](https://en.wikibooks.org/wiki/LaTeX/Mathematics) string which generates a nicely readable equation."
   ],
   "id": "f02d96bf99a19363"
  },
  {
   "cell_type": "code",
   "execution_count": null,
   "metadata": {},
   "outputs": [],
   "source": [
    "J=w**2\n",
    "J"
   ],
   "id": "e51305d367ad3ea3"
  },
  {
   "cell_type": "markdown",
   "metadata": {},
   "source": [
    "Use SymPy's `diff` to differentiate the expression for $J$ with respect to $w$. Note the result matches our earlier example."
   ],
   "id": "5e29660311874041"
  },
  {
   "cell_type": "code",
   "execution_count": null,
   "metadata": {},
   "outputs": [],
   "source": [
    "dJ_dw = diff(J,w)\n",
    "dJ_dw"
   ],
   "id": "7a7a5fb33abbff0e"
  },
  {
   "cell_type": "markdown",
   "metadata": {},
   "source": [
    "Evaluate the derivative at a few points by 'substituting' numeric values for the symbolic values. In the first example, $w$ is replaced by $2$."
   ],
   "id": "f1044908f819d38"
  },
  {
   "cell_type": "code",
   "execution_count": null,
   "metadata": {},
   "outputs": [],
   "source": [
    "dJ_dw.subs([(w,2)])    # derivative at the point w = 2"
   ],
   "id": "8e7779909990f492"
  },
  {
   "cell_type": "code",
   "execution_count": null,
   "metadata": {
    "scrolled": true
   },
   "outputs": [],
   "source": [
    "dJ_dw.subs([(w,3)])    # derivative at the point w = 3"
   ],
   "id": "57eccaecea62d563"
  },
  {
   "cell_type": "code",
   "execution_count": null,
   "metadata": {},
   "outputs": [],
   "source": [
    "dJ_dw.subs([(w,-3)])    # derivative at the point w = -3"
   ],
   "id": "b9c4a7d25b7d6f46"
  },
  {
   "cell_type": "markdown",
   "metadata": {},
   "source": [
    "## $J = 2w$"
   ],
   "id": "b9dfb2ef08563905"
  },
  {
   "cell_type": "code",
   "execution_count": null,
   "metadata": {
    "tags": []
   },
   "outputs": [],
   "source": [
    "w, J = symbols('w, J')"
   ],
   "id": "e31bc469e1e6e392"
  },
  {
   "cell_type": "code",
   "execution_count": null,
   "metadata": {},
   "outputs": [],
   "source": [
    "J = 2 * w\n",
    "J"
   ],
   "id": "4e2ebbe00456ef6e"
  },
  {
   "cell_type": "code",
   "execution_count": null,
   "metadata": {
    "tags": []
   },
   "outputs": [],
   "source": [
    "dJ_dw = diff(J,w)\n",
    "dJ_dw"
   ],
   "id": "b08adfb4fceb4f24"
  },
  {
   "cell_type": "code",
   "execution_count": null,
   "metadata": {},
   "outputs": [],
   "source": [
    "dJ_dw.subs([(w,-3)])    # derivative at the point w = -3"
   ],
   "id": "8f2c4ec4c7033832"
  },
  {
   "cell_type": "markdown",
   "metadata": {},
   "source": [
    "Compare this with the arithmetic calculation"
   ],
   "id": "3c701ed8bef5bc1d"
  },
  {
   "cell_type": "code",
   "execution_count": null,
   "metadata": {},
   "outputs": [],
   "source": [
    "J = 2*3\n",
    "J_epsilon = 2*(3 + 0.001)\n",
    "k = (J_epsilon - J)/0.001\n",
    "print(f\"J = {J}, J_epsilon = {J_epsilon}, dJ_dw ~= k = {k} \")"
   ],
   "id": "abff63f8c70998a4"
  },
  {
   "cell_type": "markdown",
   "metadata": {},
   "source": [
    "For the function $J=2w$, it is easy to see that any change in $w$ will result in 2 times that amount of change in the output $J$, regardless of the starting value of $w$. Our NumPy and arithmetic results confirm this. "
   ],
   "id": "a61f12c4efc880f"
  },
  {
   "cell_type": "markdown",
   "metadata": {},
   "source": [
    "## $J = w^3$"
   ],
   "id": "e2a483f999857b5c"
  },
  {
   "cell_type": "code",
   "execution_count": null,
   "metadata": {},
   "outputs": [],
   "source": [
    "J, w = symbols('J, w')"
   ],
   "id": "785231e4a317ae99"
  },
  {
   "cell_type": "code",
   "execution_count": null,
   "metadata": {},
   "outputs": [],
   "source": [
    "J=w**3\n",
    "J"
   ],
   "id": "93b0079d8facfde3"
  },
  {
   "cell_type": "code",
   "execution_count": null,
   "metadata": {},
   "outputs": [],
   "source": [
    "dJ_dw = diff(J,w)\n",
    "dJ_dw"
   ],
   "id": "bdaa235da0d6fa23"
  },
  {
   "cell_type": "code",
   "execution_count": null,
   "metadata": {},
   "outputs": [],
   "source": [
    "dJ_dw.subs([(w,2)])   # derivative at the point w=2"
   ],
   "id": "2b183b8c2e0145bb"
  },
  {
   "cell_type": "markdown",
   "metadata": {},
   "source": [
    "Compare this with the arithmetic calculation"
   ],
   "id": "552150b4ac783e9"
  },
  {
   "cell_type": "code",
   "execution_count": null,
   "metadata": {},
   "outputs": [],
   "source": [
    "J = (2)**3\n",
    "J_epsilon = (2+0.001)**3\n",
    "k = (J_epsilon - J)/0.001\n",
    "print(f\"J = {J}, J_epsilon = {J_epsilon}, dJ_dw ~= k = {k} \")"
   ],
   "id": "ce365901955c8094"
  },
  {
   "cell_type": "markdown",
   "metadata": {},
   "source": [
    "## $J = \\frac{1}{w}$"
   ],
   "id": "52c055a7ddad5aff"
  },
  {
   "cell_type": "code",
   "execution_count": null,
   "metadata": {},
   "outputs": [],
   "source": [
    "J, w = symbols('J, w')"
   ],
   "id": "ce4c8aa97d228c8d"
  },
  {
   "cell_type": "code",
   "execution_count": null,
   "metadata": {},
   "outputs": [],
   "source": [
    "J= 1/w\n",
    "J"
   ],
   "id": "1e72610f245264b3"
  },
  {
   "cell_type": "code",
   "execution_count": null,
   "metadata": {},
   "outputs": [],
   "source": [
    "dJ_dw = diff(J,w)\n",
    "dJ_dw"
   ],
   "id": "bc4c9f327e30ad1b"
  },
  {
   "cell_type": "code",
   "execution_count": null,
   "metadata": {},
   "outputs": [],
   "source": [
    "dJ_dw.subs([(w,2)])"
   ],
   "id": "6b93a8d48e16254f"
  },
  {
   "cell_type": "markdown",
   "metadata": {},
   "source": [
    "Compare this with the arithmetic calculation"
   ],
   "id": "da1ac0811b2c2d50"
  },
  {
   "cell_type": "code",
   "execution_count": null,
   "metadata": {},
   "outputs": [],
   "source": [
    "J = 1/2\n",
    "J_epsilon = 1/(2+0.001)\n",
    "k = (J_epsilon - J)/0.001\n",
    "print(f\"J = {J}, J_epsilon = {J_epsilon}, dJ_dw ~= k = {k} \")"
   ],
   "id": "f97646015a920552"
  },
  {
   "cell_type": "markdown",
   "metadata": {},
   "source": [
    "## $J = \\frac{1}{w^2}$"
   ],
   "id": "67a9ae3c2752f6d6"
  },
  {
   "cell_type": "code",
   "execution_count": null,
   "metadata": {},
   "outputs": [],
   "source": [
    "J, w = symbols('J, w')"
   ],
   "id": "25fecafb59d05e04"
  },
  {
   "cell_type": "markdown",
   "metadata": {},
   "source": [
    "If you have time, try to repeat the above steps on the function  $J = \\frac{1}{w^2}$ and evaluate at w=4"
   ],
   "id": "e889c927f08b0d9f"
  },
  {
   "cell_type": "code",
   "execution_count": null,
   "metadata": {},
   "outputs": [],
   "source": [],
   "id": "6ac96ed3a3430cb9"
  },
  {
   "cell_type": "code",
   "execution_count": null,
   "metadata": {},
   "outputs": [],
   "source": [],
   "id": "cad4670443db3c2b"
  },
  {
   "cell_type": "code",
   "execution_count": null,
   "metadata": {},
   "outputs": [],
   "source": [],
   "id": "97620a775cbb9b74"
  },
  {
   "cell_type": "markdown",
   "metadata": {},
   "source": [
    "Compare this with the arithmetic calculation"
   ],
   "id": "54397c354accad76"
  },
  {
   "cell_type": "code",
   "execution_count": null,
   "metadata": {},
   "outputs": [],
   "source": [
    "J = 1/4**2\n",
    "J_epsilon = 1/(4+0.001)**2\n",
    "k = (J_epsilon - J)/0.001\n",
    "print(f\"J = {J}, J_epsilon = {J_epsilon}, dJ_dw ~= k = {k} \")"
   ],
   "id": "9ee7ce6326a3e507"
  },
  {
   "cell_type": "markdown",
   "metadata": {},
   "source": [
    "<details>\n",
    "  <summary><font size=\"3\" color=\"darkgreen\"><b>Click for hints</b></font></summary>\n",
    "    \n",
    "```python \n",
    "J= 1/w**2\n",
    "dJ_dw = diff(J,w)\n",
    "dJ_dw.subs([(w,4)])\n",
    "```\n",
    "  \n",
    "\n",
    "</details>\n",
    "\n",
    "    \n"
   ],
   "id": "f4acd6c627bbe4c0"
  },
  {
   "cell_type": "markdown",
   "metadata": {},
   "source": [
    "## Congratulations!\n",
    "If you have run through the above examples, you understand a derivative describes the change in the output of a function that is a result of a small change in an input to that function. You also can use *SymPy* in python to find the symbolic derivative of functions."
   ],
   "id": "e16ec4f5f4b6de18"
  }
 ],
 "metadata": {
  "kernelspec": {
   "display_name": "Python 3",
   "language": "python",
   "name": "python3"
  },
  "language_info": {
   "codemirror_mode": {
    "name": "ipython",
    "version": 3
   },
   "file_extension": ".py",
   "mimetype": "text/x-python",
   "name": "python",
   "nbconvert_exporter": "python",
   "pygments_lexer": "ipython3",
   "version": "3.7.6"
  }
 },
 "nbformat": 4,
 "nbformat_minor": 5
}
