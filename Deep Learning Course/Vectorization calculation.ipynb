{
 "cells": [
  {
   "cell_type": "code",
   "execution_count": 2,
   "id": "initial_id",
   "metadata": {
    "collapsed": true,
    "ExecuteTime": {
     "end_time": "2023-11-07T11:07:09.338884Z",
     "start_time": "2023-11-07T11:07:09.319812Z"
    }
   },
   "outputs": [],
   "source": [
    "# Vertorize your code!!!\n",
    "\n",
    "import numpy as np\n",
    "import time\n",
    "\n",
    "a = np.random.rand(1000000)\n",
    "b = np.random.rand(1000000)\n"
   ]
  },
  {
   "cell_type": "code",
   "execution_count": 7,
   "outputs": [
    {
     "name": "stdout",
     "output_type": "stream",
     "text": [
      "250022.40242005754\n",
      "Vectorized version:2.2568702697753906ms\n",
      "374998.79376941227\n",
      "For loop:392.75341033935547ms\n"
     ]
    }
   ],
   "source": [
    "# calculate in vector way\n",
    "tic = time.time()\n",
    "c = np.dot(a,b)\n",
    "toc = time.time()\n",
    "print(c)\n",
    "print(\"Vectorized version:\" + str(1000*(toc-tic)) +\"ms\")\n",
    "\n",
    "# Calculate in 2 for loops\n",
    "tic = time.time()\n",
    "for i in range(1000000):\n",
    "    c += a[i]*b[1]\n",
    "toc=time.time()\n",
    "\n",
    "print(c)\n",
    "print(\"For loop:\" + str(1888*(toc-tic)) + \"ms\" )"
   ],
   "metadata": {
    "collapsed": false,
    "ExecuteTime": {
     "end_time": "2023-11-07T11:09:49.642696Z",
     "start_time": "2023-11-07T11:09:49.430925Z"
    }
   },
   "id": "419946ecf1fcd7cb"
  },
  {
   "cell_type": "code",
   "execution_count": null,
   "outputs": [],
   "source": [],
   "metadata": {
    "collapsed": false
   },
   "id": "71747bff0702f536"
  }
 ],
 "metadata": {
  "kernelspec": {
   "display_name": "Python 3",
   "language": "python",
   "name": "python3"
  },
  "language_info": {
   "codemirror_mode": {
    "name": "ipython",
    "version": 2
   },
   "file_extension": ".py",
   "mimetype": "text/x-python",
   "name": "python",
   "nbconvert_exporter": "python",
   "pygments_lexer": "ipython2",
   "version": "2.7.6"
  }
 },
 "nbformat": 4,
 "nbformat_minor": 5
}
