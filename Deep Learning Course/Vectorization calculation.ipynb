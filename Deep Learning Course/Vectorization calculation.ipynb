{
 "cells": [
  {
   "cell_type": "code",
   "execution_count": 2,
   "id": "initial_id",
   "metadata": {
    "collapsed": true,
    "ExecuteTime": {
     "end_time": "2023-11-07T11:07:09.338884Z",
     "start_time": "2023-11-07T11:07:09.319812Z"
    }
   },
   "outputs": [],
   "source": [
    "# Vertorize your code!!! Vectorization Demo\n",
    "\n",
    "import numpy as np\n",
    "import time\n",
    "\n",
    "a = np.random.rand(1000000)\n",
    "b = np.random.rand(1000000)\n"
   ]
  },
  {
   "cell_type": "code",
   "execution_count": 7,
   "outputs": [
    {
     "name": "stdout",
     "output_type": "stream",
     "text": [
      "250022.40242005754\n",
      "Vectorized version:2.2568702697753906ms\n",
      "374998.79376941227\n",
      "For loop:392.75341033935547ms\n"
     ]
    }
   ],
   "source": [
    "# calculate in vector way\n",
    "tic = time.time()\n",
    "c = np.dot(a,b)\n",
    "toc = time.time()\n",
    "print(c)\n",
    "print(\"Vectorized version:\" + str(1000*(toc-tic)) +\"ms\")\n",
    "\n",
    "# Calculate in 2 for loops\n",
    "tic = time.time()\n",
    "for i in range(1000000):\n",
    "    c += a[i]*b[1]\n",
    "toc=time.time()\n",
    "\n",
    "print(c)\n",
    "print(\"For loop:\" + str(1888*(toc-tic)) + \"ms\" )"
   ],
   "metadata": {
    "collapsed": false,
    "ExecuteTime": {
     "end_time": "2023-11-07T11:09:49.642696Z",
     "start_time": "2023-11-07T11:09:49.430925Z"
    }
   },
   "id": "419946ecf1fcd7cb"
  },
  {
   "cell_type": "markdown",
   "source": [
    "# boardcasting in python; Axis in Array"
   ],
   "metadata": {
    "collapsed": false
   },
   "id": "de7b105e8608d85c"
  },
  {
   "cell_type": "markdown",
   "source": [
    "### Questions: What is the percentage of calorie in each cell. \n",
    "<pre>A = np.array([[56.0, 0.0, 4.4, 68.0],\n",
    "              [1.2,104.0,52.0,8.0],\n",
    "              [1.8,135.0,99.0,0.91]])\n",
    "</pre\n",
    "\n",
    "<img src='images/1.jpg' width=75%>\n",
    "\n"
   ],
   "metadata": {
    "collapsed": false
   },
   "id": "96f1caafa3b6ad91"
  },
  {
   "cell_type": "code",
   "execution_count": 27,
   "outputs": [
    {
     "name": "stdout",
     "output_type": "stream",
     "text": [
      "[[ 56.     0.     4.4   68.  ]\n",
      " [  1.2  104.    52.     8.  ]\n",
      " [  1.8  135.    99.     0.91]]\n"
     ]
    }
   ],
   "source": [
    "import numpy as пр\n",
    "A = np.array([[56.0, 0.0, 4.4, 68.0],\n",
    "              [1.2,104.0,52.0,8.0],\n",
    "              [1.8,135.0,99.0,0.91]])\n",
    "print (A)"
   ],
   "metadata": {
    "collapsed": false,
    "ExecuteTime": {
     "end_time": "2023-11-07T14:24:03.634252Z",
     "start_time": "2023-11-07T14:24:03.632888Z"
    }
   },
   "id": "31e97ab8e56e49e6"
  },
  {
   "cell_type": "code",
   "execution_count": 9,
   "outputs": [
    {
     "name": "stdout",
     "output_type": "stream",
     "text": [
      "[ 59.   239.   155.4   76.91]\n"
     ]
    }
   ],
   "source": [
    "cal = A.sum(axis=0) # Different from dataframe in Pandas, 0 is doing in column, 1 is doing by row\n",
    "print(cal)"
   ],
   "metadata": {
    "collapsed": false,
    "ExecuteTime": {
     "end_time": "2023-11-07T14:07:16.560985Z",
     "start_time": "2023-11-07T14:07:16.551470Z"
    }
   },
   "id": "235e7292de8ba93b"
  },
  {
   "cell_type": "code",
   "execution_count": 10,
   "outputs": [
    {
     "name": "stdout",
     "output_type": "stream",
     "text": [
      "[128.4  165.2  236.71]\n"
     ]
    }
   ],
   "source": [
    "temp = A.sum(axis=1) # Note it is different from axis = 0\n",
    "print(temp)"
   ],
   "metadata": {
    "collapsed": false,
    "ExecuteTime": {
     "end_time": "2023-11-07T14:07:34.704203Z",
     "start_time": "2023-11-07T14:07:34.689514Z"
    }
   },
   "id": "79146a1b29e7f476"
  },
  {
   "cell_type": "code",
   "execution_count": 26,
   "outputs": [
    {
     "data": {
      "text/plain": "array([[94.91525424,  0.        ,  2.83140283, 88.41503056],\n       [ 2.03389831, 43.51464435, 33.46203346, 10.4017683 ],\n       [ 3.05084746, 56.48535565, 63.70656371,  1.18320114]])"
     },
     "execution_count": 26,
     "metadata": {},
     "output_type": "execute_result"
    }
   ],
   "source": [
    "percentage = 100 * A/cal.reshape(1,4)\n",
    "percentage"
   ],
   "metadata": {
    "collapsed": false,
    "ExecuteTime": {
     "end_time": "2023-11-07T14:20:25.829510Z",
     "start_time": "2023-11-07T14:20:25.818581Z"
    }
   },
   "id": "ad741083212a4673"
  },
  {
   "cell_type": "code",
   "execution_count": null,
   "outputs": [],
   "source": [],
   "metadata": {
    "collapsed": false
   },
   "id": "81f3ad28e6c9a27a"
  },
  {
   "cell_type": "code",
   "execution_count": 28,
   "outputs": [
    {
     "name": "stdout",
     "output_type": "stream",
     "text": [
      "[-0.31930634  1.91701187  1.95113681 -0.82801128  0.75514818]\n"
     ]
    }
   ],
   "source": [
    "# Random number\n",
    "a = np.random.randn(5) \n",
    "print(a)\n",
    "# Note it gives a rank 1 array. "
   ],
   "metadata": {
    "collapsed": false,
    "ExecuteTime": {
     "end_time": "2023-11-07T14:47:55.475675Z",
     "start_time": "2023-11-07T14:47:55.435411Z"
    }
   },
   "id": "d287802faa9913f1"
  },
  {
   "cell_type": "code",
   "execution_count": 29,
   "outputs": [
    {
     "name": "stdout",
     "output_type": "stream",
     "text": [
      "[-0.31930634  1.91701187  1.95113681 -0.82801128  0.75514818]\n"
     ]
    }
   ],
   "source": [
    "print(a.T) # Note it is just same as \"a\""
   ],
   "metadata": {
    "collapsed": false,
    "ExecuteTime": {
     "end_time": "2023-11-07T14:48:50.700384Z",
     "start_time": "2023-11-07T14:48:50.684059Z"
    }
   },
   "id": "75754a2564b74386"
  },
  {
   "cell_type": "code",
   "execution_count": 32,
   "outputs": [
    {
     "name": "stdout",
     "output_type": "stream",
     "text": [
      "8.83967737339359\n",
      "8.83967737339359\n"
     ]
    }
   ],
   "source": [
    "print(np.dot(a,a.T))\n",
    "print(np.dot(a, a)) \n",
    "# there are the same!"
   ],
   "metadata": {
    "collapsed": false,
    "ExecuteTime": {
     "end_time": "2023-11-07T14:49:42.407549Z",
     "start_time": "2023-11-07T14:49:42.398522Z"
    }
   },
   "id": "9439d101a6e7a904"
  },
  {
   "cell_type": "code",
   "execution_count": 35,
   "outputs": [
    {
     "name": "stdout",
     "output_type": "stream",
     "text": [
      "[[ 0.99746038]\n",
      " [ 0.00257484]\n",
      " [-0.80095161]\n",
      " [-0.54111896]\n",
      " [-0.88921683]]\n"
     ]
    }
   ],
   "source": [
    "# e.g. 2 \n",
    "\n",
    "a  = np.random.randn(5,1)\n",
    "print(a) # Note: there is no comma at the end!"
   ],
   "metadata": {
    "collapsed": false,
    "ExecuteTime": {
     "end_time": "2023-11-07T14:51:05.675409Z",
     "start_time": "2023-11-07T14:51:05.667648Z"
    }
   },
   "id": "51a5ef1cf726a7e9"
  },
  {
   "cell_type": "code",
   "execution_count": 36,
   "outputs": [
    {
     "name": "stdout",
     "output_type": "stream",
     "text": [
      "[[ 0.99746038  0.00257484 -0.80095161 -0.54111896 -0.88921683]]\n"
     ]
    }
   ],
   "source": [
    "print(a.T) # Note: There are 2 bracket, while it is only one for for a.T before. There are different!"
   ],
   "metadata": {
    "collapsed": false,
    "ExecuteTime": {
     "end_time": "2023-11-07T14:52:10.142136Z",
     "start_time": "2023-11-07T14:52:10.117822Z"
    }
   },
   "id": "ee63f97a47534c68"
  },
  {
   "cell_type": "code",
   "execution_count": 37,
   "outputs": [
    {
     "name": "stdout",
     "output_type": "stream",
     "text": [
      "[[ 9.94927203e-01  2.56829834e-03 -7.98917491e-01 -5.39744719e-01\n",
      "  -8.86958552e-01]\n",
      " [ 2.56829834e-03  6.62978791e-06 -2.06232019e-03 -1.39329336e-03\n",
      "  -2.28958879e-03]\n",
      " [-7.98917491e-01 -2.06232019e-03  6.41523476e-01  4.33410098e-01\n",
      "   7.12219647e-01]\n",
      " [-5.39744719e-01 -1.39329336e-03  4.33410098e-01  2.92809726e-01\n",
      "   4.81172082e-01]\n",
      " [-8.86958552e-01 -2.28958879e-03  7.12219647e-01  4.81172082e-01\n",
      "   7.90706567e-01]]\n"
     ]
    }
   ],
   "source": [
    "# And note, for the dot product, it will have different result\n",
    "print(np.dot(a, a.T))"
   ],
   "metadata": {
    "collapsed": false,
    "ExecuteTime": {
     "end_time": "2023-11-07T14:54:56.693001Z",
     "start_time": "2023-11-07T14:54:56.672545Z"
    }
   },
   "id": "2bffb82c61f1cc89"
  },
  {
   "cell_type": "markdown",
   "source": [
    "## Don't use Rank 1 array, to avoid confusion \n",
    "\n",
    "<img src='images/3.jpg' width=1900>\n",
    "\n"
   ],
   "metadata": {
    "collapsed": false
   },
   "id": "a74f39f9ec135b45"
  },
  {
   "cell_type": "code",
   "execution_count": null,
   "outputs": [],
   "source": [],
   "metadata": {
    "collapsed": false
   },
   "id": "2a7e2ad41fbd4886"
  }
 ],
 "metadata": {
  "kernelspec": {
   "display_name": "Python 3",
   "language": "python",
   "name": "python3"
  },
  "language_info": {
   "codemirror_mode": {
    "name": "ipython",
    "version": 2
   },
   "file_extension": ".py",
   "mimetype": "text/x-python",
   "name": "python",
   "nbconvert_exporter": "python",
   "pygments_lexer": "ipython2",
   "version": "2.7.6"
  }
 },
 "nbformat": 4,
 "nbformat_minor": 5
}
